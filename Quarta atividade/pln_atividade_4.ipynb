{
 "cells": [
  {
   "cell_type": "code",
   "execution_count": 65,
   "id": "1c2d2287",
   "metadata": {},
   "outputs": [],
   "source": [
    "from nltk.tokenize import word_tokenize"
   ]
  },
  {
   "cell_type": "code",
   "execution_count": 66,
   "id": "742c09d6",
   "metadata": {},
   "outputs": [],
   "source": [
    "def find_n_grama(texto, n):\n",
    "    tuplas = []\n",
    "    for i in range(len(texto) - n + 1):\n",
    "        tupla = tuple(texto[i:i+n])\n",
    "        tuplas.append(tupla)\n",
    "    return tuplas"
   ]
  },
  {
   "cell_type": "code",
   "execution_count": 67,
   "id": "344a3241",
   "metadata": {},
   "outputs": [
    {
     "name": "stdout",
     "output_type": "stream",
     "text": [
      "['\\n', 'ainda', 'que', 'mal', 'pergunte', '\\n', 'ainda', 'que', 'mal', 'respondas', '\\n', 'ainda', 'que', 'mal', 'te', 'entenda', '\\n', 'ainda', 'que', 'mal', 'repitas', '\\n', 'ainda', 'que', 'mal', 'insista', '<f>']\n"
     ]
    }
   ],
   "source": [
    "\n",
    "with open('poema.txt', 'r', encoding='utf-8') as f:\n",
    "    texto = [linha.strip() for linha in f.readlines()]\n",
    "matriz=[[ ] for i in range(len(texto))]\n",
    "for i in range(len(texto)):\n",
    "    matriz[i]=word_tokenize(text=texto[i], language=\"portuguese\")\n",
    "for i in range(len(texto)):\n",
    "    matriz[i].insert(0, \"\\n\")\n",
    "tokens=[]\n",
    "for linha in matriz:\n",
    "    for palavra in linha:\n",
    "        tokens.append(palavra)\n",
    "tokens.append(\"<f>\")\n",
    "print(tokens)\n"
   ]
  },
  {
   "cell_type": "code",
   "execution_count": 68,
   "id": "33a27ca1",
   "metadata": {},
   "outputs": [],
   "source": [
    "def find_freq(list_bigrama):\n",
    "    dicionario={}\n",
    "    for bigrama in list_bigrama:\n",
    "        if bigrama in dicionario:\n",
    "            dicionario[bigrama]+=1\n",
    "        else:\n",
    "            dicionario[bigrama]=1\n",
    "    return dicionario"
   ]
  },
  {
   "cell_type": "code",
   "execution_count": 69,
   "id": "2b7a8b4b",
   "metadata": {},
   "outputs": [
    {
     "name": "stdout",
     "output_type": "stream",
     "text": [
      "Counter({'\\n': 5, 'ainda': 5, 'que': 5, 'mal': 5, 'pergunte': 1, 'respondas': 1, 'te': 1, 'entenda': 1, 'repitas': 1, 'insista': 1, '<f>': 1})\n"
     ]
    }
   ],
   "source": [
    "from collections import Counter\n",
    "bigramas=find_n_grama(tokens,2)\n",
    "freq_bigramas=find_freq(bigramas)\n",
    "freq= Counter(tokens)\n",
    "print(freq)"
   ]
  },
  {
   "cell_type": "code",
   "execution_count": 70,
   "id": "bd68ed45",
   "metadata": {},
   "outputs": [],
   "source": [
    "import math\n",
    "def calcula_probabilidade_bigrama(palavra: str, contexto: str, k:float= 0.1):\n",
    "    probabilidade= freq_bigramas.get((contexto, palavra), 0)+k/(freq[contexto]+k*len(freq))\n",
    "\n",
    "    return math.log(probabilidade)\n",
    "\n",
    "\n"
   ]
  },
  {
   "cell_type": "code",
   "execution_count": 71,
   "id": "5646da80",
   "metadata": {},
   "outputs": [
    {
     "name": "stdout",
     "output_type": "stream",
     "text": [
      " Probabilidade de \"ainda\" dado \"\n",
      "\" é 1.6127112377790696\n",
      " Probabilidade de \"que\" dado \"ainda\" é 1.6127112377790696\n",
      " Probabilidade de \"mal\" dado \"que\" é 1.6127112377790696\n",
      " Probabilidade de \"pergunte\" dado \"mal\" é 0.016260520871780326\n",
      " Probabilidade de \"\n",
      "\" dado \"pergunte\" é 0.04652001563489291\n",
      " Probabilidade de \"ainda\" dado \"\n",
      "\" é 1.6127112377790696\n",
      " Probabilidade de \"que\" dado \"ainda\" é 1.6127112377790696\n",
      " Probabilidade de \"mal\" dado \"que\" é 1.6127112377790696\n",
      " Probabilidade de \"respondas\" dado \"mal\" é 0.016260520871780326\n",
      " Probabilidade de \"\n",
      "\" dado \"respondas\" é 0.04652001563489291\n",
      " Probabilidade de \"ainda\" dado \"\n",
      "\" é 1.6127112377790696\n",
      " Probabilidade de \"que\" dado \"ainda\" é 1.6127112377790696\n",
      " Probabilidade de \"mal\" dado \"que\" é 1.6127112377790696\n",
      " Probabilidade de \"te\" dado \"mal\" é 0.016260520871780326\n",
      " Probabilidade de \"entenda\" dado \"te\" é 0.04652001563489291\n",
      " Probabilidade de \"\n",
      "\" dado \"entenda\" é 0.04652001563489291\n",
      " Probabilidade de \"ainda\" dado \"\n",
      "\" é 1.6127112377790696\n",
      " Probabilidade de \"que\" dado \"ainda\" é 1.6127112377790696\n",
      " Probabilidade de \"mal\" dado \"que\" é 1.6127112377790696\n",
      " Probabilidade de \"repitas\" dado \"mal\" é 0.016260520871780326\n",
      " Probabilidade de \"\n",
      "\" dado \"repitas\" é 0.04652001563489291\n",
      " Probabilidade de \"ainda\" dado \"\n",
      "\" é 1.6127112377790696\n",
      " Probabilidade de \"que\" dado \"ainda\" é 1.6127112377790696\n",
      " Probabilidade de \"mal\" dado \"que\" é 1.6127112377790696\n",
      " Probabilidade de \"insista\" dado \"mal\" é 0.016260520871780326\n",
      " Probabilidade de \"<f>\" dado \"insista\" é 0.04652001563489291\n"
     ]
    }
   ],
   "source": [
    "for bigrama in bigramas:\n",
    "    print(f' Probabilidade de \"{bigrama[1]}\" dado \"{bigrama[0]}\" é {calcula_probabilidade(bigrama[1], bigrama[0])}')"
   ]
  },
  {
   "cell_type": "code",
   "execution_count": 72,
   "id": "379c1d81",
   "metadata": {},
   "outputs": [
    {
     "data": {
      "text/plain": [
       "0.8903077392664417"
      ]
     },
     "execution_count": 72,
     "metadata": {},
     "output_type": "execute_result"
    }
   ],
   "source": [
    "def calcula_probabilidade_frase(frase: str):\n",
    "    tokens= word_tokenize(frase, language=\"portuguese\")\n",
    "    tokens.insert(0,\"\\n \")\n",
    "    tokens.append(\"<f>\")\n",
    "    bigramas_frase=find_n_grama(tokens, 2 )\n",
    "    probabilidade=0\n",
    "    for bigrama in bigramas_frase:\n",
    "        probabilidade+=calcula_probabilidade_bigrama(bigrama[1], bigrama[0])\n",
    "    return probabilidade\n",
    "\n",
    "calcula_probabilidade_frase(\"ainda que mal insista\")\n",
    "    "
   ]
  }
 ],
 "metadata": {
  "kernelspec": {
   "display_name": ".venv",
   "language": "python",
   "name": "python3"
  },
  "language_info": {
   "codemirror_mode": {
    "name": "ipython",
    "version": 3
   },
   "file_extension": ".py",
   "mimetype": "text/x-python",
   "name": "python",
   "nbconvert_exporter": "python",
   "pygments_lexer": "ipython3",
   "version": "3.12.6"
  }
 },
 "nbformat": 4,
 "nbformat_minor": 5
}
