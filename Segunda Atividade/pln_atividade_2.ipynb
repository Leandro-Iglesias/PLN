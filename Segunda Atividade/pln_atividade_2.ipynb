{
 "cells": [
  {
   "cell_type": "code",
   "execution_count": 35,
   "id": "5505c422",
   "metadata": {},
   "outputs": [
    {
     "name": "stdout",
     "output_type": "stream",
     "text": [
      "Requirement already satisfied: nltk in c:\\users\\leandro iglesias\\documents\\pln\\.venv\\lib\\site-packages (3.9.1)\n",
      "Requirement already satisfied: click in c:\\users\\leandro iglesias\\documents\\pln\\.venv\\lib\\site-packages (from nltk) (8.1.8)\n",
      "Requirement already satisfied: joblib in c:\\users\\leandro iglesias\\documents\\pln\\.venv\\lib\\site-packages (from nltk) (1.4.2)\n",
      "Requirement already satisfied: regex>=2021.8.3 in c:\\users\\leandro iglesias\\documents\\pln\\.venv\\lib\\site-packages (from nltk) (2024.11.6)\n",
      "Requirement already satisfied: tqdm in c:\\users\\leandro iglesias\\documents\\pln\\.venv\\lib\\site-packages (from nltk) (4.67.1)\n",
      "Requirement already satisfied: colorama in c:\\users\\leandro iglesias\\documents\\pln\\.venv\\lib\\site-packages (from click->nltk) (0.4.6)\n"
     ]
    },
    {
     "name": "stderr",
     "output_type": "stream",
     "text": [
      "\n",
      "[notice] A new release of pip is available: 25.1 -> 25.1.1\n",
      "[notice] To update, run: python.exe -m pip install --upgrade pip\n"
     ]
    }
   ],
   "source": [
    "!pip install nltk\n"
   ]
  },
  {
   "cell_type": "code",
   "execution_count": 36,
   "id": "7f174b10",
   "metadata": {},
   "outputs": [
    {
     "name": "stderr",
     "output_type": "stream",
     "text": [
      "[nltk_data] Downloading package punkt_tab to C:\\Users\\Leandro\n",
      "[nltk_data]     Iglesias\\AppData\\Roaming\\nltk_data...\n",
      "[nltk_data]   Package punkt_tab is already up-to-date!\n"
     ]
    },
    {
     "data": {
      "text/plain": [
       "True"
      ]
     },
     "execution_count": 36,
     "metadata": {},
     "output_type": "execute_result"
    }
   ],
   "source": [
    "import nltk\n",
    "nltk.download('punkt_tab')"
   ]
  },
  {
   "cell_type": "code",
   "execution_count": 16,
   "id": "41996ee9",
   "metadata": {},
   "outputs": [],
   "source": [
    "from nltk.tokenize import word_tokenize\n",
    "\n",
    "with open('capivara-pt.txt', 'r', encoding='utf-8') as f:\n",
    "    texto=f.read()\n",
    "\n",
    "tokens= word_tokenize(text=texto, language=\"portuguese\")\n",
    "\n"
   ]
  },
  {
   "cell_type": "code",
   "execution_count": 37,
   "id": "64632b2d",
   "metadata": {},
   "outputs": [
    {
     "name": "stdout",
     "output_type": "stream",
     "text": [
      "224\n"
     ]
    }
   ],
   "source": [
    "print(len(tokens))"
   ]
  },
  {
   "cell_type": "code",
   "execution_count": 17,
   "id": "cd908f8d",
   "metadata": {},
   "outputs": [
    {
     "name": "stdout",
     "output_type": "stream",
     "text": [
      "['a', 'capivara', '(', 'nome', 'científico', ':', 'hydrochoerus', 'hydrochaeris', ')', 'é', 'uma', 'espécie', 'de', 'mamífero', 'roedor', 'da', 'família', 'caviidae', 'e', 'subfamília', 'hydrochoerinae', '.', 'alguns', 'autores', 'consideram', 'que', 'deva', 'ser', 'classificada', 'em', 'uma', 'família', 'própria', '.', 'está', 'incluída', 'no', 'mesmo', 'grupo', 'de', 'roedores', 'ao', 'qual', 'se', 'classificam', 'as', 'pacas', ',', 'cutias', ',', 'os', 'preás', 'e', 'o', 'porquinho-da-índia', '.', 'ocorre', 'por', 'toda', 'a', 'américa', 'do', 'sul', 'ao', 'leste', 'dos', 'andes', 'em', 'habitats', 'associados', 'a', 'rios', ',', 'lagos', 'e', 'pântanos', ',', 'do', 'nível', 'do', 'mar', 'até', '1', '300', 'm', 'de', 'altitude', '.', 'extremamente', 'adaptável', ',', 'pode', 'ocorrer', 'em', 'ambientes', 'altamente', 'alterados', 'pelo', 'ser', 'humano', '.', 'é', 'o', 'maior', 'roedor', 'do', 'mundo', ',', 'pesando', 'até', '91', 'kg', 'e', 'medindo', 'até', '1,2', 'm', 'de', 'comprimento', 'e', '60', 'cm', 'de', 'altura', '.', 'a', 'pelagem', 'é', 'densa', ',', 'de', 'cor', 'avermelhada', 'a', 'marrom', 'escuro', '.', 'é', 'possível', 'distinguir', 'os', 'machos', 'por', 'conta', 'da', 'presença', 'de', 'uma', 'glândula', 'proeminente', 'no', 'focinho', 'apesar', 'do', 'dimorfismo', 'sexual', 'não', 'ser', 'aparente', '.', 'existe', 'uma', 'série', 'de', 'adaptações', 'no', 'sistema', 'digestório', 'à', 'herbivoria', ',', 'principalmente', 'no', 'ceco', '.', 'alcança', 'a', 'maturidade', 'sexual', 'com', 'cerca', 'de', '1,5', 'ano', 'de', 'idade', ',', 'e', 'as', 'fêmeas', 'dão', 'à', 'luz', 'geralmente', 'a', 'quatro', 'filhotes', 'por', 'vez', ',', 'pesando', 'até', '1,5', 'kg', 'e', 'já', 'nascem', 'com', 'pelos', 'e', 'dentição', 'permanente', '.', 'em', 'cativeiro', ',', 'pode', 'viver', 'até', '12', 'anos', 'de', 'idade', '.']\n"
     ]
    }
   ],
   "source": [
    "token_minusculo= [token.lower() for token in tokens]\n",
    "print(token_minusculo)"
   ]
  },
  {
   "cell_type": "code",
   "execution_count": 18,
   "id": "d45d211d",
   "metadata": {},
   "outputs": [
    {
     "name": "stdout",
     "output_type": "stream",
     "text": [
      "['a', 'capivara', 'nome', 'científico', 'hydrochoerus', 'hydrochaeris', 'é', 'uma', 'espécie', 'de', 'mamífero', 'roedor', 'da', 'família', 'caviidae', 'e', 'subfamília', 'hydrochoerinae', 'alguns', 'autores', 'consideram', 'que', 'deva', 'ser', 'classificada', 'em', 'uma', 'família', 'própria', 'está', 'incluída', 'no', 'mesmo', 'grupo', 'de', 'roedores', 'ao', 'qual', 'se', 'classificam', 'as', 'pacas', 'cutias', 'os', 'preás', 'e', 'o', 'porquinho-da-índia', 'ocorre', 'por', 'toda', 'a', 'américa', 'do', 'sul', 'ao', 'leste', 'dos', 'andes', 'em', 'habitats', 'associados', 'a', 'rios', 'lagos', 'e', 'pântanos', 'do', 'nível', 'do', 'mar', 'até', '1', '300', 'm', 'de', 'altitude', 'extremamente', 'adaptável', 'pode', 'ocorrer', 'em', 'ambientes', 'altamente', 'alterados', 'pelo', 'ser', 'humano', 'é', 'o', 'maior', 'roedor', 'do', 'mundo', 'pesando', 'até', '91', 'kg', 'e', 'medindo', 'até', '1,2', 'm', 'de', 'comprimento', 'e', '60', 'cm', 'de', 'altura', 'a', 'pelagem', 'é', 'densa', 'de', 'cor', 'avermelhada', 'a', 'marrom', 'escuro', 'é', 'possível', 'distinguir', 'os', 'machos', 'por', 'conta', 'da', 'presença', 'de', 'uma', 'glândula', 'proeminente', 'no', 'focinho', 'apesar', 'do', 'dimorfismo', 'sexual', 'não', 'ser', 'aparente', 'existe', 'uma', 'série', 'de', 'adaptações', 'no', 'sistema', 'digestório', 'à', 'herbivoria', 'principalmente', 'no', 'ceco', 'alcança', 'a', 'maturidade', 'sexual', 'com', 'cerca', 'de', '1,5', 'ano', 'de', 'idade', 'e', 'as', 'fêmeas', 'dão', 'à', 'luz', 'geralmente', 'a', 'quatro', 'filhotes', 'por', 'vez', 'pesando', 'até', '1,5', 'kg', 'e', 'já', 'nascem', 'com', 'pelos', 'e', 'dentição', 'permanente', 'em', 'cativeiro', 'pode', 'viver', 'até', '12', 'anos', 'de', 'idade']\n"
     ]
    }
   ],
   "source": [
    "pontuacoes_portugues = {\n",
    "    '.', ',', ';', ':', '!', '?', '…',\n",
    "    '–', '—', \"'\", '\"', '(', ')',\n",
    "    '[', ']', '{', '}', '/', '\\\\',\n",
    "    '-', '_'\n",
    "}\n",
    "token_sem_pontuacao= [token for token in token_minusculo if token not in pontuacoes_portugues]\n",
    "print(token_sem_pontuacao)"
   ]
  },
  {
   "cell_type": "code",
   "execution_count": 30,
   "id": "b673e2b7",
   "metadata": {},
   "outputs": [
    {
     "name": "stdout",
     "output_type": "stream",
     "text": [
      "['capivara', 'nome', 'científico', 'hydrochoerus', 'hydrochaeris', 'espécie', 'mamífero', 'roedor', 'família', 'caviidae', 'subfamília', 'hydrochoerinae', 'alguns', 'autores', 'consideram', 'deva', 'classificada', 'família', 'própria', 'incluída', 'grupo', 'roedores', 'classificam', 'pacas', 'cutias', 'preás', 'porquinho-da-índia', 'ocorre', 'toda', 'américa', 'sul', 'leste', 'andes', 'habitats', 'associados', 'rios', 'lagos', 'pântanos', 'nível', 'mar', '1', '300', 'altitude', 'extremamente', 'adaptável', 'pode', 'ocorrer', 'ambientes', 'altamente', 'alterados', 'humano', 'maior', 'roedor', 'mundo', 'pesando', '91', 'kg', 'medindo', '1,2', 'comprimento', '60', 'cm', 'altura', 'pelagem', 'densa', 'cor', 'avermelhada', 'marrom', 'escuro', 'possível', 'distinguir', 'machos', 'conta', 'presença', 'glândula', 'proeminente', 'focinho', 'apesar', 'dimorfismo', 'sexual', 'aparente', 'existe', 'série', 'adaptações', 'sistema', 'digestório', 'herbivoria', 'principalmente', 'ceco', 'alcança', 'maturidade', 'sexual', 'cerca', '1,5', 'ano', 'idade', 'fêmeas', 'dão', 'luz', 'geralmente', 'quatro', 'filhotes', 'vez', 'pesando', '1,5', 'kg', 'nascem', 'dentição', 'permanente', 'cativeiro', 'pode', 'viver', '12', 'anos', 'idade']\n"
     ]
    }
   ],
   "source": [
    "with open('stopword-pt.txt','r', encoding='utf-8') as f:\n",
    "    stop_word=f.read()\n",
    "token_sem_stop_word=[token for token in token_sem_pontuacao if token not in stop_word]\n",
    "print(token_sem_stop_word)\n"
   ]
  },
  {
   "cell_type": "markdown",
   "id": "ea700639",
   "metadata": {},
   "source": [
    "Função que me retorna um dicionário com as frequencias das palavras"
   ]
  },
  {
   "cell_type": "code",
   "execution_count": 20,
   "id": "493cab9b",
   "metadata": {},
   "outputs": [],
   "source": [
    "def hist(tokens):\n",
    "    palavras_distintas=set()\n",
    "    frequencias={}\n",
    "    for token in tokens:\n",
    "        if token in palavras_distintas:\n",
    "            frequencias[token]+=1\n",
    "        else:\n",
    "            frequencias[token]=1\n",
    "            palavras_distintas.add(token)\n",
    "    return frequencias"
   ]
  },
  {
   "cell_type": "markdown",
   "id": "dc316dd4",
   "metadata": {},
   "source": [
    "#Contando a quantidade de tokens"
   ]
  },
  {
   "cell_type": "code",
   "execution_count": 38,
   "id": "5d8661c2",
   "metadata": {},
   "outputs": [
    {
     "name": "stdout",
     "output_type": "stream",
     "text": [
      "107\n"
     ]
    }
   ],
   "source": [
    "freq=hist(token_sem_stop_word)\n",
    "print(len(freq))"
   ]
  },
  {
   "cell_type": "markdown",
   "id": "01cfb54b",
   "metadata": {},
   "source": [
    "Função que remove as palavras menos frequentes utilizando a função  hist"
   ]
  },
  {
   "cell_type": "code",
   "execution_count": 31,
   "id": "7c95b011",
   "metadata": {},
   "outputs": [
    {
     "name": "stdout",
     "output_type": "stream",
     "text": [
      "[('científico', 1), ('hydrochoerus', 1), ('hydrochaeris', 1), ('espécie', 1), ('mamífero', 1), ('caviidae', 1), ('subfamília', 1), ('hydrochoerinae', 1), ('alguns', 1), ('autores', 1), ('consideram', 1), ('deva', 1), ('classificada', 1), ('própria', 1), ('incluída', 1), ('grupo', 1), ('roedores', 1), ('classificam', 1), ('pacas', 1), ('cutias', 1), ('preás', 1), ('porquinho-da-índia', 1), ('ocorre', 1), ('toda', 1), ('américa', 1), ('sul', 1), ('leste', 1), ('andes', 1), ('habitats', 1), ('associados', 1), ('rios', 1), ('lagos', 1), ('pântanos', 1), ('nível', 1), ('mar', 1), ('1', 1), ('300', 1), ('altitude', 1), ('extremamente', 1), ('adaptável', 1), ('ocorrer', 1), ('ambientes', 1), ('altamente', 1), ('alterados', 1), ('humano', 1), ('maior', 1), ('mundo', 1), ('91', 1), ('medindo', 1), ('1,2', 1), ('comprimento', 1), ('60', 1), ('cm', 1), ('altura', 1), ('pelagem', 1), ('densa', 1), ('cor', 1), ('avermelhada', 1), ('marrom', 1), ('escuro', 1), ('possível', 1), ('distinguir', 1), ('machos', 1), ('conta', 1), ('presença', 1), ('glândula', 1), ('proeminente', 1), ('focinho', 1), ('apesar', 1), ('dimorfismo', 1), ('aparente', 1), ('existe', 1), ('série', 1), ('adaptações', 1), ('sistema', 1), ('digestório', 1), ('herbivoria', 1), ('principalmente', 1), ('ceco', 1), ('alcança', 1), ('maturidade', 1), ('cerca', 1), ('ano', 1), ('fêmeas', 1), ('dão', 1), ('luz', 1), ('geralmente', 1), ('quatro', 1), ('filhotes', 1), ('vez', 1), ('nascem', 1), ('dentição', 1), ('permanente', 1), ('cativeiro', 1), ('viver', 1), ('12', 1), ('anos', 1), ('roedor', 2), ('família', 2), ('pode', 2), ('pesando', 2), ('kg', 2), ('sexual', 2), ('1,5', 2), ('idade', 2)]\n"
     ]
    }
   ],
   "source": [
    "def remove_menos_frequentes( tokens, n):\n",
    "    frequencias=hist(tokens)\n",
    "    return sorted(frequencias.items(),  key=lambda x: x[1])[n:]\n",
    "\n",
    "token_palavras_removidas=remove_menos_frequentes(token_sem_stop_word, 2)\n",
    "print(token_palavras_removidas)\n"
   ]
  },
  {
   "cell_type": "markdown",
   "id": "f07c4829",
   "metadata": {},
   "source": [
    "Remove as palavras que tem uma frequencia menor que N"
   ]
  },
  {
   "cell_type": "code",
   "execution_count": 34,
   "id": "eb52f211",
   "metadata": {},
   "outputs": [],
   "source": [
    "def remove_palavras_com_frequencia_menor_que_n(tokens, n ):\n",
    "    frequencias=hist(tokens)\n",
    "    token_renovado=tokens.copy( )\n",
    "    for palavra in frequencias:\n",
    "        if frequencias[palavra] <  n:\n",
    "            token_renovado.remove(palavra)\n",
    "    return token_renovado\n"
   ]
  },
  {
   "cell_type": "markdown",
   "id": "1de49577",
   "metadata": {},
   "source": [
    "Função que retorna as 20 palavrasa mais frequentes no texto"
   ]
  },
  {
   "cell_type": "code",
   "execution_count": 43,
   "id": "7cef0e8c",
   "metadata": {},
   "outputs": [
    {
     "data": {
      "text/plain": [
       "[('roedor', 2),\n",
       " ('família', 2),\n",
       " ('pode', 2),\n",
       " ('pesando', 2),\n",
       " ('kg', 2),\n",
       " ('sexual', 2),\n",
       " ('1,5', 2),\n",
       " ('idade', 2),\n",
       " ('capivara', 1),\n",
       " ('nome', 1),\n",
       " ('científico', 1),\n",
       " ('hydrochoerus', 1),\n",
       " ('hydrochaeris', 1),\n",
       " ('espécie', 1),\n",
       " ('mamífero', 1),\n",
       " ('caviidae', 1),\n",
       " ('subfamília', 1),\n",
       " ('hydrochoerinae', 1),\n",
       " ('alguns', 1),\n",
       " ('autores', 1)]"
      ]
     },
     "execution_count": 43,
     "metadata": {},
     "output_type": "execute_result"
    }
   ],
   "source": [
    "def ranking(tokens):\n",
    "    freq=hist(tokens)\n",
    "    return sorted(freq.items(), key =lambda x:x[1], reverse=True)[0:20]\n",
    "ranking(token_sem_stop_word)"
   ]
  }
 ],
 "metadata": {
  "kernelspec": {
   "display_name": ".venv",
   "language": "python",
   "name": "python3"
  },
  "language_info": {
   "codemirror_mode": {
    "name": "ipython",
    "version": 3
   },
   "file_extension": ".py",
   "mimetype": "text/x-python",
   "name": "python",
   "nbconvert_exporter": "python",
   "pygments_lexer": "ipython3",
   "version": "3.12.6"
  }
 },
 "nbformat": 4,
 "nbformat_minor": 5
}
