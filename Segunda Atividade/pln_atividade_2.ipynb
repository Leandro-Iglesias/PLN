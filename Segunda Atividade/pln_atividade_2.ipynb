{
 "cells": [
  {
   "cell_type": "code",
   "execution_count": 3,
   "id": "5505c422",
   "metadata": {},
   "outputs": [
    {
     "name": "stdout",
     "output_type": "stream",
     "text": [
      "Defaulting to user installation because normal site-packages is not writeable\n",
      "Requirement already satisfied: nltk in c:\\users\\leandro iglesias\\appdata\\roaming\\python\\python312\\site-packages (3.9.1)\n",
      "Requirement already satisfied: click in c:\\users\\leandro iglesias\\appdata\\roaming\\python\\python312\\site-packages (from nltk) (8.1.8)\n",
      "Requirement already satisfied: joblib in c:\\users\\leandro iglesias\\appdata\\roaming\\python\\python312\\site-packages (from nltk) (1.4.2)\n",
      "Requirement already satisfied: regex>=2021.8.3 in c:\\users\\leandro iglesias\\appdata\\roaming\\python\\python312\\site-packages (from nltk) (2024.11.6)\n",
      "Requirement already satisfied: tqdm in c:\\users\\leandro iglesias\\appdata\\roaming\\python\\python312\\site-packages (from nltk) (4.67.1)\n",
      "Requirement already satisfied: colorama in c:\\users\\leandro iglesias\\appdata\\roaming\\python\\python312\\site-packages (from click->nltk) (0.4.6)\n"
     ]
    },
    {
     "name": "stderr",
     "output_type": "stream",
     "text": [
      "\n",
      "[notice] A new release of pip is available: 24.3.1 -> 25.1\n",
      "[notice] To update, run: python.exe -m pip install --upgrade pip\n"
     ]
    }
   ],
   "source": [
    "!pip install nltk\n"
   ]
  },
  {
   "cell_type": "code",
   "execution_count": 7,
   "id": "7f174b10",
   "metadata": {},
   "outputs": [
    {
     "name": "stderr",
     "output_type": "stream",
     "text": [
      "[nltk_data] Downloading package punkt_tab to C:\\Users\\Leandro\n",
      "[nltk_data]     Iglesias\\AppData\\Roaming\\nltk_data...\n",
      "[nltk_data]   Unzipping tokenizers\\punkt_tab.zip.\n"
     ]
    },
    {
     "data": {
      "text/plain": [
       "True"
      ]
     },
     "execution_count": 7,
     "metadata": {},
     "output_type": "execute_result"
    }
   ],
   "source": [
    "import nltk\n",
    "nltk.download('punkt_tab')"
   ]
  },
  {
   "cell_type": "code",
   "execution_count": null,
   "id": "41996ee9",
   "metadata": {},
   "outputs": [
    {
     "name": "stdout",
     "output_type": "stream",
     "text": [
      "['a', 'capivara', '(', 'nome', 'científico', ':', 'hydrochoerus', 'hydrochaeris', ')', 'é', 'uma', 'espécie', 'de', 'mamífero', 'roedor', 'da', 'família', 'caviidae', 'e', 'subfamília', 'hydrochoerinae', '.', 'alguns', 'autores', 'consideram', 'que', 'deva', 'ser', 'classificada', 'em', 'uma', 'família', 'própria', '.', 'está', 'incluída', 'no', 'mesmo', 'grupo', 'de', 'roedores', 'ao', 'qual', 'se', 'classificam', 'as', 'pacas', ',', 'cutias', ',', 'os', 'preás', 'e', 'o', 'porquinho-da-índia', '.', 'ocorre', 'por', 'toda', 'a', 'américa', 'do', 'sul', 'ao', 'leste', 'dos', 'andes', 'em', 'habitats', 'associados', 'a', 'rios', ',', 'lagos', 'e', 'pântanos', ',', 'do', 'nível', 'do', 'mar', 'até', '1', '300', 'm', 'de', 'altitude', '.', 'extremamente', 'adaptável', ',', 'pode', 'ocorrer', 'em', 'ambientes', 'altamente', 'alterados', 'pelo', 'ser', 'humano', '.', 'é', 'o', 'maior', 'roedor', 'do', 'mundo', ',', 'pesando', 'até', '91', 'kg', 'e', 'medindo', 'até', '1,2', 'm', 'de', 'comprimento', 'e', '60', 'cm', 'de', 'altura', '.', 'a', 'pelagem', 'é', 'densa', ',', 'de', 'cor', 'avermelhada', 'a', 'marrom', 'escuro', '.', 'é', 'possível', 'distinguir', 'os', 'machos', 'por', 'conta', 'da', 'presença', 'de', 'uma', 'glândula', 'proeminente', 'no', 'focinho', 'apesar', 'do', 'dimorfismo', 'sexual', 'não', 'ser', 'aparente', '.', 'existe', 'uma', 'série', 'de', 'adaptações', 'no', 'sistema', 'digestório', 'à', 'herbivoria', ',', 'principalmente', 'no', 'ceco', '.', 'alcança', 'a', 'maturidade', 'sexual', 'com', 'cerca', 'de', '1,5', 'ano', 'de', 'idade', ',', 'e', 'as', 'fêmeas', 'dão', 'à', 'luz', 'geralmente', 'a', 'quatro', 'filhotes', 'por', 'vez', ',', 'pesando', 'até', '1,5', 'kg', 'e', 'já', 'nascem', 'com', 'pelos', 'e', 'dentição', 'permanente', '.', 'em', 'cativeiro', ',', 'pode', 'viver', 'até', '12', 'anos', 'de', 'idade', '.']\n"
     ]
    }
   ],
   "source": [
    "from nltk.tokenize import word_tokenize\n",
    "\n",
    "with open('capivara-pt.txt', 'r', encoding='utf-8') as f:\n",
    "    texto=f.read()\n",
    "\n",
    "tokens= word_tokenize(text=texto, language=\"portuguese\")\n",
    "\n"
   ]
  },
  {
   "cell_type": "code",
   "execution_count": null,
   "id": "cd908f8d",
   "metadata": {},
   "outputs": [
    {
     "name": "stdout",
     "output_type": "stream",
     "text": [
      "['a', 'capivara', '(', 'nome', 'científico', ':', 'hydrochoerus', 'hydrochaeris', ')', 'é', 'uma', 'espécie', 'de', 'mamífero', 'roedor', 'da', 'família', 'caviidae', 'e', 'subfamília', 'hydrochoerinae', '.', 'alguns', 'autores', 'consideram', 'que', 'deva', 'ser', 'classificada', 'em', 'uma', 'família', 'própria', '.', 'está', 'incluída', 'no', 'mesmo', 'grupo', 'de', 'roedores', 'ao', 'qual', 'se', 'classificam', 'as', 'pacas', ',', 'cutias', ',', 'os', 'preás', 'e', 'o', 'porquinho-da-índia', '.', 'ocorre', 'por', 'toda', 'a', 'américa', 'do', 'sul', 'ao', 'leste', 'dos', 'andes', 'em', 'habitats', 'associados', 'a', 'rios', ',', 'lagos', 'e', 'pântanos', ',', 'do', 'nível', 'do', 'mar', 'até', '1', '300', 'm', 'de', 'altitude', '.', 'extremamente', 'adaptável', ',', 'pode', 'ocorrer', 'em', 'ambientes', 'altamente', 'alterados', 'pelo', 'ser', 'humano', '.', 'é', 'o', 'maior', 'roedor', 'do', 'mundo', ',', 'pesando', 'até', '91', 'kg', 'e', 'medindo', 'até', '1,2', 'm', 'de', 'comprimento', 'e', '60', 'cm', 'de', 'altura', '.', 'a', 'pelagem', 'é', 'densa', ',', 'de', 'cor', 'avermelhada', 'a', 'marrom', 'escuro', '.', 'é', 'possível', 'distinguir', 'os', 'machos', 'por', 'conta', 'da', 'presença', 'de', 'uma', 'glândula', 'proeminente', 'no', 'focinho', 'apesar', 'do', 'dimorfismo', 'sexual', 'não', 'ser', 'aparente', '.', 'existe', 'uma', 'série', 'de', 'adaptações', 'no', 'sistema', 'digestório', 'à', 'herbivoria', ',', 'principalmente', 'no', 'ceco', '.', 'alcança', 'a', 'maturidade', 'sexual', 'com', 'cerca', 'de', '1,5', 'ano', 'de', 'idade', ',', 'e', 'as', 'fêmeas', 'dão', 'à', 'luz', 'geralmente', 'a', 'quatro', 'filhotes', 'por', 'vez', ',', 'pesando', 'até', '1,5', 'kg', 'e', 'já', 'nascem', 'com', 'pelos', 'e', 'dentição', 'permanente', '.', 'em', 'cativeiro', ',', 'pode', 'viver', 'até', '12', 'anos', 'de', 'idade', '.']\n"
     ]
    }
   ],
   "source": [
    "token_minusculo= [token.lower() for token in tokens]\n",
    "print(token_minusculo)"
   ]
  },
  {
   "cell_type": "code",
   "execution_count": 8,
   "id": "d45d211d",
   "metadata": {},
   "outputs": [
    {
     "name": "stdout",
     "output_type": "stream",
     "text": [
      "['a', 'capivara', 'nome', 'científico', 'hydrochoerus', 'hydrochaeris', 'é', 'uma', 'espécie', 'de', 'mamífero', 'roedor', 'da', 'família', 'caviidae', 'e', 'subfamília', 'hydrochoerinae', 'alguns', 'autores', 'consideram', 'que', 'deva', 'ser', 'classificada', 'em', 'uma', 'família', 'própria', 'está', 'incluída', 'no', 'mesmo', 'grupo', 'de', 'roedores', 'ao', 'qual', 'se', 'classificam', 'as', 'pacas', 'cutias', 'os', 'preás', 'e', 'o', 'porquinho-da-índia', 'ocorre', 'por', 'toda', 'a', 'américa', 'do', 'sul', 'ao', 'leste', 'dos', 'andes', 'em', 'habitats', 'associados', 'a', 'rios', 'lagos', 'e', 'pântanos', 'do', 'nível', 'do', 'mar', 'até', '1', '300', 'm', 'de', 'altitude', 'extremamente', 'adaptável', 'pode', 'ocorrer', 'em', 'ambientes', 'altamente', 'alterados', 'pelo', 'ser', 'humano', 'é', 'o', 'maior', 'roedor', 'do', 'mundo', 'pesando', 'até', '91', 'kg', 'e', 'medindo', 'até', '1,2', 'm', 'de', 'comprimento', 'e', '60', 'cm', 'de', 'altura', 'a', 'pelagem', 'é', 'densa', 'de', 'cor', 'avermelhada', 'a', 'marrom', 'escuro', 'é', 'possível', 'distinguir', 'os', 'machos', 'por', 'conta', 'da', 'presença', 'de', 'uma', 'glândula', 'proeminente', 'no', 'focinho', 'apesar', 'do', 'dimorfismo', 'sexual', 'não', 'ser', 'aparente', 'existe', 'uma', 'série', 'de', 'adaptações', 'no', 'sistema', 'digestório', 'à', 'herbivoria', 'principalmente', 'no', 'ceco', 'alcança', 'a', 'maturidade', 'sexual', 'com', 'cerca', 'de', '1,5', 'ano', 'de', 'idade', 'e', 'as', 'fêmeas', 'dão', 'à', 'luz', 'geralmente', 'a', 'quatro', 'filhotes', 'por', 'vez', 'pesando', 'até', '1,5', 'kg', 'e', 'já', 'nascem', 'com', 'pelos', 'e', 'dentição', 'permanente', 'em', 'cativeiro', 'pode', 'viver', 'até', '12', 'anos', 'de', 'idade']\n"
     ]
    }
   ],
   "source": [
    "pontuacoes_portugues = {\n",
    "    '.', ',', ';', ':', '!', '?', '…',\n",
    "    '–', '—', \"'\", '\"', '(', ')',\n",
    "    '[', ']', '{', '}', '/', '\\\\',\n",
    "    '-', '_'\n",
    "}\n",
    "token_sem_pontuacao= [token for token in token_minusculo if token not in pontuacoes_portugues]\n",
    "print(token_sem_pontuacao)"
   ]
  },
  {
   "cell_type": "code",
   "execution_count": 13,
   "id": "b673e2b7",
   "metadata": {},
   "outputs": [
    {
     "name": "stdout",
     "output_type": "stream",
     "text": [
      "['capivara', 'nome', 'científico', 'hydrochoerus', 'hydrochaeris', 'espécie', 'mamífero', 'roedor', 'família', 'caviidae', 'subfamília', 'hydrochoerinae', 'alguns', 'autores', 'consideram', 'deva', 'classificada', 'família', 'própria', 'incluída', 'grupo', 'roedores', 'classificam', 'pacas', 'cutias', 'preás', 'porquinho-da-índia', 'ocorre', 'toda', 'américa', 'sul', 'leste', 'andes', 'habitats', 'associados', 'rios', 'lagos', 'pântanos', 'nível', 'mar', '1', '300', 'altitude', 'extremamente', 'adaptável', 'pode', 'ocorrer', 'ambientes', 'altamente', 'alterados', 'humano', 'maior', 'roedor', 'mundo', 'pesando', '91', 'kg', 'medindo', '1,2', 'comprimento', '60', 'cm', 'altura', 'pelagem', 'densa', 'cor', 'avermelhada', 'marrom', 'escuro', 'possível', 'distinguir', 'machos', 'conta', 'presença', 'glândula', 'proeminente', 'focinho', 'apesar', 'dimorfismo', 'sexual', 'aparente', 'existe', 'série', 'adaptações', 'sistema', 'digestório', 'herbivoria', 'principalmente', 'ceco', 'alcança', 'maturidade', 'sexual', 'cerca', '1,5', 'ano', 'idade', 'fêmeas', 'dão', 'luz', 'geralmente', 'quatro', 'filhotes', 'vez', 'pesando', '1,5', 'kg', 'nascem', 'dentição', 'permanente', 'cativeiro', 'pode', 'viver', '12', 'anos', 'idade']\n"
     ]
    }
   ],
   "source": [
    "with open('stopword-pt.txt','r', encoding='utf-8') as f:\n",
    "    stop_word=f.read()\n",
    "token_sem_stop_word=[token for token in token_sem_pontuacao if token not in stop_word]\n",
    "print(token_sem_stop_word)\n"
   ]
  },
  {
   "cell_type": "code",
   "execution_count": 32,
   "id": "7c95b011",
   "metadata": {},
   "outputs": [
    {
     "data": {
      "text/plain": [
       "[('hydrochaeris', 1),\n",
       " ('espécie', 1),\n",
       " ('mamífero', 1),\n",
       " ('caviidae', 1),\n",
       " ('subfamília', 1),\n",
       " ('hydrochoerinae', 1),\n",
       " ('alguns', 1),\n",
       " ('autores', 1),\n",
       " ('consideram', 1),\n",
       " ('deva', 1),\n",
       " ('classificada', 1),\n",
       " ('própria', 1),\n",
       " ('incluída', 1),\n",
       " ('grupo', 1),\n",
       " ('roedores', 1),\n",
       " ('classificam', 1),\n",
       " ('pacas', 1),\n",
       " ('cutias', 1),\n",
       " ('preás', 1),\n",
       " ('porquinho-da-índia', 1),\n",
       " ('ocorre', 1),\n",
       " ('toda', 1),\n",
       " ('américa', 1),\n",
       " ('sul', 1),\n",
       " ('leste', 1),\n",
       " ('andes', 1),\n",
       " ('habitats', 1),\n",
       " ('associados', 1),\n",
       " ('rios', 1),\n",
       " ('lagos', 1),\n",
       " ('pântanos', 1),\n",
       " ('nível', 1),\n",
       " ('mar', 1),\n",
       " ('1', 1),\n",
       " ('300', 1),\n",
       " ('altitude', 1),\n",
       " ('extremamente', 1),\n",
       " ('adaptável', 1),\n",
       " ('ocorrer', 1),\n",
       " ('ambientes', 1),\n",
       " ('altamente', 1),\n",
       " ('alterados', 1),\n",
       " ('humano', 1),\n",
       " ('maior', 1),\n",
       " ('mundo', 1),\n",
       " ('91', 1),\n",
       " ('medindo', 1),\n",
       " ('1,2', 1),\n",
       " ('comprimento', 1),\n",
       " ('60', 1),\n",
       " ('cm', 1),\n",
       " ('altura', 1),\n",
       " ('pelagem', 1),\n",
       " ('densa', 1),\n",
       " ('cor', 1),\n",
       " ('avermelhada', 1),\n",
       " ('marrom', 1),\n",
       " ('escuro', 1),\n",
       " ('possível', 1),\n",
       " ('distinguir', 1),\n",
       " ('machos', 1),\n",
       " ('conta', 1),\n",
       " ('presença', 1),\n",
       " ('glândula', 1),\n",
       " ('proeminente', 1),\n",
       " ('focinho', 1),\n",
       " ('apesar', 1),\n",
       " ('dimorfismo', 1),\n",
       " ('aparente', 1),\n",
       " ('existe', 1),\n",
       " ('série', 1),\n",
       " ('adaptações', 1),\n",
       " ('sistema', 1),\n",
       " ('digestório', 1),\n",
       " ('herbivoria', 1),\n",
       " ('principalmente', 1),\n",
       " ('ceco', 1),\n",
       " ('alcança', 1),\n",
       " ('maturidade', 1),\n",
       " ('cerca', 1),\n",
       " ('ano', 1),\n",
       " ('fêmeas', 1),\n",
       " ('dão', 1),\n",
       " ('luz', 1),\n",
       " ('geralmente', 1),\n",
       " ('quatro', 1),\n",
       " ('filhotes', 1),\n",
       " ('vez', 1),\n",
       " ('nascem', 1),\n",
       " ('dentição', 1),\n",
       " ('permanente', 1),\n",
       " ('cativeiro', 1),\n",
       " ('viver', 1),\n",
       " ('12', 1),\n",
       " ('anos', 1),\n",
       " ('roedor', 2),\n",
       " ('família', 2),\n",
       " ('pode', 2),\n",
       " ('pesando', 2),\n",
       " ('kg', 2),\n",
       " ('sexual', 2),\n",
       " ('1,5', 2),\n",
       " ('idade', 2)]"
      ]
     },
     "execution_count": 32,
     "metadata": {},
     "output_type": "execute_result"
    }
   ],
   "source": [
    "def remove_menos_frequentes( tokens, n):\n",
    "    palavras_distintas=set()\n",
    "    frequencias={}\n",
    "    for token in tokens:\n",
    "        if token in palavras_distintas:\n",
    "            frequencias[token]+=1\n",
    "        else:\n",
    "            frequencias[token]=1\n",
    "            palavras_distintas.add(token)\n",
    "    return sorted(frequencias.items(),  key=lambda x: x[1])[n:]\n",
    "remove_menos_frequentes(token_sem_stop_word, 4)"
   ]
  },
  {
   "cell_type": "code",
   "execution_count": null,
   "id": "eb52f211",
   "metadata": {},
   "outputs": [],
   "source": [
    "def qtd_type()"
   ]
  }
 ],
 "metadata": {
  "kernelspec": {
   "display_name": ".venv",
   "language": "python",
   "name": "python3"
  },
  "language_info": {
   "codemirror_mode": {
    "name": "ipython",
    "version": 3
   },
   "file_extension": ".py",
   "mimetype": "text/x-python",
   "name": "python",
   "nbconvert_exporter": "python",
   "pygments_lexer": "ipython3",
   "version": "3.12.6"
  }
 },
 "nbformat": 4,
 "nbformat_minor": 5
}
